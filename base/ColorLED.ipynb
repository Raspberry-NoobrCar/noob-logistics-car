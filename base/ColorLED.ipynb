{
 "cells": [
  {
   "cell_type": "code",
   "execution_count": 2,
   "metadata": {},
   "outputs": [],
   "source": [
    "import RPi.GPIO as GPIO\n",
    "import time"
   ]
  },
  {
   "cell_type": "code",
   "execution_count": 2,
   "metadata": {},
   "outputs": [],
   "source": [
    "#RGB三色灯引脚定义\n",
    "LED_R = 22\n",
    "LED_G = 27\n",
    "LED_B = 24"
   ]
  },
  {
   "cell_type": "code",
   "execution_count": 3,
   "metadata": {},
   "outputs": [
    {
     "name": "stderr",
     "output_type": "stream",
     "text": [
      "/usr/lib/python3/dist-packages/ipykernel_launcher.py:5: RuntimeWarning: This channel is already in use, continuing anyway.  Use GPIO.setwarnings(False) to disable warnings.\n",
      "  \"\"\"\n",
      "/usr/lib/python3/dist-packages/ipykernel_launcher.py:6: RuntimeWarning: This channel is already in use, continuing anyway.  Use GPIO.setwarnings(False) to disable warnings.\n",
      "  \n",
      "/usr/lib/python3/dist-packages/ipykernel_launcher.py:7: RuntimeWarning: This channel is already in use, continuing anyway.  Use GPIO.setwarnings(False) to disable warnings.\n",
      "  import sys\n"
     ]
    }
   ],
   "source": [
    "#设置RGB三色灯为BCM编码方式\n",
    "GPIO.setmode(GPIO.BCM)\n",
    "\n",
    "#RGB三色灯设置为输出模式\n",
    "GPIO.setup(LED_R, GPIO.OUT)\n",
    "GPIO.setup(LED_G, GPIO.OUT)\n",
    "GPIO.setup(LED_B, GPIO.OUT)"
   ]
  },
  {
   "cell_type": "code",
   "execution_count": 4,
   "metadata": {},
   "outputs": [],
   "source": [
    "timeInterval = 2"
   ]
  },
  {
   "cell_type": "code",
   "execution_count": 4,
   "metadata": {},
   "outputs": [
    {
     "name": "stdout",
     "output_type": "stream",
     "text": [
      "except\n"
     ]
    }
   ],
   "source": [
    "#循环显示7种不同的颜色\n",
    "try:\n",
    "    while True:\n",
    "        GPIO.output(LED_R, GPIO.HIGH)\n",
    "        GPIO.output(LED_G, GPIO.LOW)\n",
    "        GPIO.output(LED_B, GPIO.LOW)\n",
    "        time.sleep(timeInterval)\n",
    "        GPIO.output(LED_R, GPIO.LOW)\n",
    "        GPIO.output(LED_G, GPIO.HIGH)\n",
    "        GPIO.output(LED_B, GPIO.LOW)\n",
    "        time.sleep(timeInterval)\n",
    "        GPIO.output(LED_R, GPIO.LOW)\n",
    "        GPIO.output(LED_G, GPIO.LOW)\n",
    "        GPIO.output(LED_B, GPIO.HIGH)\n",
    "        time.sleep(timeInterval)\n",
    "        GPIO.output(LED_R, GPIO.HIGH)\n",
    "        GPIO.output(LED_G, GPIO.HIGH)\n",
    "        GPIO.output(LED_B, GPIO.LOW)\n",
    "        time.sleep(timeInterval)\n",
    "        GPIO.output(LED_R, GPIO.HIGH)\n",
    "        GPIO.output(LED_G, GPIO.LOW)\n",
    "        GPIO.output(LED_B, GPIO.HIGH)\n",
    "        time.sleep(timeInterval)\n",
    "        GPIO.output(LED_R, GPIO.LOW)\n",
    "        GPIO.output(LED_G, GPIO.HIGH)\n",
    "        GPIO.output(LED_B, GPIO.HIGH)\n",
    "        time.sleep(timeInterval)\n",
    "        GPIO.output(LED_R, GPIO.LOW)\n",
    "        GPIO.output(LED_G, GPIO.LOW)\n",
    "        GPIO.output(LED_B, GPIO.LOW)\n",
    "        time.sleep(timeInterval)\n",
    "except:\n",
    "    print(\"except\")\n"
   ]
  },
  {
   "cell_type": "code",
   "execution_count": 3,
   "metadata": {},
   "outputs": [
    {
     "name": "stderr",
     "output_type": "stream",
     "text": [
      "/usr/lib/python3/dist-packages/ipykernel_launcher.py:4: RuntimeWarning: No channels have been set up yet - nothing to clean up!  Try cleaning up at the end of your program instead!\n",
      "  after removing the cwd from sys.path.\n"
     ]
    }
   ],
   "source": [
    "#使用try except语句，当CTRL+C结束进程时会触发异常后\n",
    "#会执行gpio.cleanup()语句清除GPIO管脚的状态\n",
    "\n",
    "GPIO.cleanup()"
   ]
  },
  {
   "cell_type": "code",
   "execution_count": null,
   "metadata": {},
   "outputs": [],
   "source": []
  }
 ],
 "metadata": {
  "kernelspec": {
   "display_name": "Python 3",
   "language": "python",
   "name": "python3"
  },
  "language_info": {
   "codemirror_mode": {
    "name": "ipython",
    "version": 3
   },
   "file_extension": ".py",
   "mimetype": "text/x-python",
   "name": "python",
   "nbconvert_exporter": "python",
   "pygments_lexer": "ipython3",
   "version": "3.7.3"
  }
 },
 "nbformat": 4,
 "nbformat_minor": 4
}
